{
 "cells": [
  {
   "attachments": {},
   "cell_type": "markdown",
   "metadata": {},
   "source": [
    "## 1. Collect"
   ]
  },
  {
   "cell_type": "code",
   "execution_count": 1,
   "metadata": {},
   "outputs": [],
   "source": [
    "import csv\n",
    "from elasticsearch import Elasticsearch\n",
    "import pandas as pd\n",
    "import requests"
   ]
  },
  {
   "cell_type": "code",
   "execution_count": 2,
   "metadata": {},
   "outputs": [],
   "source": [
    "ES_HOST = \"https://cluster.elasticsearch.dataesr.ovh/\"\n",
    "ES_INDEX = \"bso-publications\"\n",
    "ES_PASSWORD = \"vn84q9Xef9U7pmU%\"\n",
    "ES_USER = \"BSO\"\n",
    "\n",
    "OPENALEX_API = \"https://api.openalex.org/works\"\n",
    "OPENALEX_COUNTRIES = \"fr\"\n",
    "OPENALEX_FIELD = \"open_access.oa_status\"\n",
    "OPENALEX_MAILTO = \"bso@recherche.gouv.fr\"\n",
    "OPENALEX_MAX_RESULTS = 10000\n",
    "OPENALEX_PER_PAGE = 200\n",
    "OPENALEX_YEAR = \"2020\""
   ]
  },
  {
   "cell_type": "code",
   "execution_count": 3,
   "metadata": {},
   "outputs": [],
   "source": [
    "es = Elasticsearch(ES_HOST, http_auth=(ES_USER, ES_PASSWORD))"
   ]
  },
  {
   "cell_type": "code",
   "execution_count": 4,
   "metadata": {},
   "outputs": [],
   "source": [
    "def get_works_by_status(filter, label):\n",
    "  works = []\n",
    "  results = {}\n",
    "  url = f\"{OPENALEX_API}?filter=institutions.country_code:{OPENALEX_COUNTRIES},publication_year:{OPENALEX_YEAR},has_doi:true,is_paratext:false,{filter}&mailto={OPENALEX_MAILTO}&per-page={OPENALEX_PER_PAGE}&page=\"\n",
    "  number_of_pages = int(OPENALEX_MAX_RESULTS / OPENALEX_PER_PAGE)\n",
    "  for page in range(number_of_pages):\n",
    "    try:\n",
    "      url_with_page = f\"{url}{page + 1}\"\n",
    "      work = requests.get(url_with_page).json().get(\"results\", [])\n",
    "      works.append(work)\n",
    "    except Exception as error:\n",
    "      print(f\"An exception occurred | {url_with_page} | {error}\")\n",
    "  works = [j for sub in works for j in sub]\n",
    "  for work in works:\n",
    "      results[work.get(\"doi\").replace(\"https://doi.org/\", \"\")] = { \"openalex_type\": label, \"bso_type\": \"not_found\" }\n",
    "  return works, results"
   ]
  },
  {
   "cell_type": "code",
   "execution_count": 5,
   "metadata": {},
   "outputs": [],
   "source": [
    "works = []\n",
    "results = {}\n",
    "works_repo, results_repo = get_works_by_status(filter=\"open_access.oa_status:green\", label=\"repository\")\n",
    "works += works_repo\n",
    "results = { **results, **results_repo }\n",
    "works_repopubli, results_repopubli = get_works_by_status(filter=\"open_access.is_oa:true,open_access.oa_status:!green,open_access.any_repository_has_fulltext:true\", label=\"publisher;repository\")\n",
    "works += works_repopubli\n",
    "results = { **results, **results_repopubli }\n",
    "works_repopubli, results_repopubli = get_works_by_status(filter=\"open_access.is_oa:true,open_access.oa_status:!green,open_access.any_repository_has_fulltext:false\", label=\"publisher\")\n",
    "works += works_repopubli\n",
    "results = { **results, **results_repopubli }"
   ]
  },
  {
   "cell_type": "code",
   "execution_count": 6,
   "metadata": {},
   "outputs": [
    {
     "name": "stdout",
     "output_type": "stream",
     "text": [
      "Number of collected works: 30000\n",
      "Number of results: 29999\n"
     ]
    }
   ],
   "source": [
    "print(f\"Number of collected works: {len(works)}\")\n",
    "print(f\"Number of results: {len(results)}\")"
   ]
  },
  {
   "cell_type": "code",
   "execution_count": 7,
   "metadata": {},
   "outputs": [
    {
     "data": {
      "text/plain": [
       "29999"
      ]
     },
     "execution_count": 7,
     "metadata": {},
     "output_type": "execute_result"
    }
   ],
   "source": [
    "dois = list(results.keys())\n",
    "n = 20\n",
    "dois_chunks = [dois[i:i + n] for i in range(0, len(dois), n)]\n",
    "for chunk in dois_chunks:\n",
    "\tquery = {\n",
    "\t\t\"bool\": {\n",
    "\t\t\t\"should\": [\n",
    "\t\t\t\t{\n",
    "\t\t\t\t\t\"terms\": {\n",
    "\t\t\t\t\t\t\"doi.keyword\": chunk\n",
    "\t\t\t\t\t}\n",
    "\t\t\t\t}\n",
    "\t\t\t]\n",
    "\t\t}\n",
    "\t}\n",
    "\thits = es.search(index=ES_INDEX, query=query, size=n).get(\"hits\", {}).get(\"hits\", [])\n",
    "\tfor hit in hits:\n",
    "\t\tdoi = hit.get(\"_source\", {}).get(\"doi\")\n",
    "\t\tbso_status = hit.get(\"_source\", {}).get(\"oa_details\", {}).get(\"2023Q1\", {}).get(\"oa_host_type\")\n",
    "\t\tif doi and doi in results and bso_status:\n",
    "\t\t\tresults[doi][\"bso_type\"] = bso_status\n",
    "len(results)"
   ]
  },
  {
   "cell_type": "code",
   "execution_count": 8,
   "metadata": {},
   "outputs": [
    {
     "name": "stdout",
     "output_type": "stream",
     "text": [
      "Number of detected errors: 2722\n"
     ]
    }
   ],
   "source": [
    "errors = {k:v for k, v in results.items() if v.get(\"openalex_type\") != v.get(\"bso_type\")}\n",
    "print(f\"Number of detected errors: {len(errors)}\")\n",
    "outputfile = f\"errors_{OPENALEX_COUNTRIES}_{OPENALEX_YEAR}.csv\"\n",
    "with open(outputfile, \"w\", newline=\"\") as csvfile:\n",
    "    csvwriter = csv.writer(csvfile)\n",
    "    csvwriter.writerow([\"doi\", \"openalex_type\", \"bso_type\"])\n",
    "    for row in [doi for doi in errors]:\n",
    "      csvwriter.writerow([row, errors.get(row).get(\"openalex_type\"), errors.get(row).get(\"bso_type\")])"
   ]
  },
  {
   "attachments": {},
   "cell_type": "markdown",
   "metadata": {},
   "source": [
    "## 2. Analyze"
   ]
  },
  {
   "cell_type": "code",
   "execution_count": 9,
   "metadata": {},
   "outputs": [],
   "source": [
    "filepath = f\"errors_{OPENALEX_COUNTRIES}_{OPENALEX_YEAR}.csv\"\n",
    "df = pd.read_csv(filepath)"
   ]
  },
  {
   "cell_type": "code",
   "execution_count": 10,
   "metadata": {},
   "outputs": [
    {
     "data": {
      "text/plain": [
       "2722"
      ]
     },
     "execution_count": 10,
     "metadata": {},
     "output_type": "execute_result"
    }
   ],
   "source": [
    "df.shape[0]"
   ]
  },
  {
   "cell_type": "code",
   "execution_count": 11,
   "metadata": {},
   "outputs": [
    {
     "data": {
      "text/plain": [
       "openalex_type\n",
       "publisher               1892\n",
       "publisher;repository     379\n",
       "repository               451\n",
       "dtype: int64"
      ]
     },
     "execution_count": 11,
     "metadata": {},
     "output_type": "execute_result"
    }
   ],
   "source": [
    "df.groupby(by=[\"openalex_type\"]).size()"
   ]
  },
  {
   "cell_type": "code",
   "execution_count": 12,
   "metadata": {},
   "outputs": [
    {
     "data": {
      "text/plain": [
       "openalex_type         bso_type            \n",
       "publisher             closed                  100\n",
       "                      not_found               804\n",
       "                      publisher;repository    983\n",
       "                      repository                5\n",
       "publisher;repository  not_found               129\n",
       "                      publisher               213\n",
       "                      repository               37\n",
       "repository            closed                  145\n",
       "                      not_found               248\n",
       "                      publisher                 3\n",
       "                      publisher;repository     55\n",
       "dtype: int64"
      ]
     },
     "execution_count": 12,
     "metadata": {},
     "output_type": "execute_result"
    }
   ],
   "source": [
    "df.groupby(by=[\"openalex_type\", \"bso_type\"]).size()"
   ]
  }
 ],
 "metadata": {
  "kernelspec": {
   "display_name": "Python 3",
   "language": "python",
   "name": "python3"
  },
  "language_info": {
   "codemirror_mode": {
    "name": "ipython",
    "version": 3
   },
   "file_extension": ".py",
   "mimetype": "text/x-python",
   "name": "python",
   "nbconvert_exporter": "python",
   "pygments_lexer": "ipython3",
   "version": "3.10.6"
  },
  "orig_nbformat": 4
 },
 "nbformat": 4,
 "nbformat_minor": 2
}
